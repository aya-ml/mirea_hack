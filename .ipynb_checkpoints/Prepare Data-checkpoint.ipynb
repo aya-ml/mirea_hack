{
 "cells": [
  {
   "cell_type": "code",
   "execution_count": 2,
   "id": "6728bf25-f390-41a0-ac9f-afff1479a690",
   "metadata": {},
   "outputs": [],
   "source": [
    "from docx import Document\n",
    "\n",
    "def parse_docx1(file_path: str) -> dict:\n",
    "    \"\"\"\n",
    "    Парсит таблицы и списки из docx-файла, представляя каждый список как отдельный Python list.\n",
    "    \n",
    "    :param file_path: Путь к файлу .docx\n",
    "    :return: Словарь с таблицами и списками\n",
    "    \"\"\"\n",
    "    doc = Document(file_path)\n",
    "    \n",
    "    parsed_data = {\n",
    "        \"tables\": [[\n",
    "            [cell.text.strip() for cell in row.cells]\n",
    "            for row in table.rows\n",
    "        ] for table in doc.tables],\n",
    "        \"numbered_lists\": [],\n",
    "        \"bullet_lists\": [],\n",
    "    }\n",
    "\n",
    "    current_list, current_type = [], None\n",
    "    \n",
    "    for paragraph in doc.paragraphs:\n",
    "        text = paragraph.text.strip()\n",
    "        if not text:\n",
    "            continue\n",
    "\n",
    "        style_name = paragraph.style.name.lower()\n",
    "        is_numbered = \"list number\" in style_name\n",
    "        is_bullet = \"list bullet\" in style_name\n",
    "\n",
    "        if is_numbered or is_bullet:\n",
    "            new_type = \"numbered\" if is_numbered else \"bullet\"\n",
    "            if current_type != new_type:\n",
    "                if current_list:\n",
    "                    parsed_data[f\"{current_type}_lists\"].append(current_list)\n",
    "                current_list, current_type = [], new_type\n",
    "            current_list.append(text)\n",
    "        else:\n",
    "            if current_list:\n",
    "                parsed_data[f\"{current_type}_lists\"].append(current_list)\n",
    "                current_list, current_type = [], None\n",
    "\n",
    "    if current_list:\n",
    "        parsed_data[f\"{current_type}_lists\"].append(current_list)\n",
    "    \n",
    "    return parsed_data"
   ]
  },
  {
   "cell_type": "code",
   "execution_count": 5,
   "id": "94358b55-ad83-474e-a237-9c478266d55e",
   "metadata": {
    "scrolled": true
   },
   "outputs": [
    {
     "name": "stdout",
     "output_type": "stream",
     "text": [
      "Таблицы:\n",
      "[['123', '', '111'], ['123', 'Ghb', 'AAAAA'], ['Я', 'Кто даун?', 'Кто даун?']]\n",
      "\n",
      "Нумерованные списки:\n",
      "\n",
      "Буллет-списки:\n"
     ]
    }
   ],
   "source": [
    "file_path = \"123.docx\"\n",
    "\n",
    "parsed_data = parse_docx1(file_path)\n",
    "\n",
    "print(\"Таблицы:\")\n",
    "for table in parsed_data[\"tables\"]:\n",
    "    print(table)\n",
    "\n",
    "print(\"\\nНумерованные списки:\")\n",
    "for item in parsed_data[\"numbered_lists\"]:\n",
    "    print(item)\n",
    "\n",
    "print(\"\\nБуллет-списки:\")\n",
    "for item in parsed_data[\"bullet_lists\"]:\n",
    "    print(item)"
   ]
  },
  {
   "cell_type": "code",
   "execution_count": null,
   "id": "5539322e-89b0-41c6-953f-ee564b3272a8",
   "metadata": {},
   "outputs": [],
   "source": []
  }
 ],
 "metadata": {
  "kernelspec": {
   "display_name": "Python 3 (ipykernel)",
   "language": "python",
   "name": "python3"
  },
  "language_info": {
   "codemirror_mode": {
    "name": "ipython",
    "version": 3
   },
   "file_extension": ".py",
   "mimetype": "text/x-python",
   "name": "python",
   "nbconvert_exporter": "python",
   "pygments_lexer": "ipython3",
   "version": "3.13.0"
  }
 },
 "nbformat": 4,
 "nbformat_minor": 5
}
