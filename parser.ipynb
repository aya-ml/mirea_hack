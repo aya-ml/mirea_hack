{
 "cells": [
  {
   "cell_type": "code",
   "execution_count": 59,
   "id": "468353c9-b6d9-428e-a831-20245c1733f7",
   "metadata": {},
   "outputs": [
    {
     "name": "stdout",
     "output_type": "stream",
     "text": [
      "[{'text': 'Quantum Aristoxeni ingenium consumptum videmus in musicis?', 'style_id': 'a'}\n",
      " {'text': 'Lorem ipsum dolor sit amet, consectetur adipiscing elit. Quid nunc honeste dicit? Tum Torquatus: Prorsus, inquit, assentior; Duo Reges: constructio interrete. Iam in altera philosophiae parte. Sed haec omittamus; Haec para/doca illi, nos admirabilia dicamus. Nihil sane.', 'style_id': 'a'}\n",
      " {'text': 'Expressa vero in iis aetatibus, quae iam confirmatae sunt.', 'style_id': 'a'}\n",
      " {'text': 'Sit sane ista voluptas. Non quam nostram quidem, inquit Pomponius iocans; An tu me de L. Sed haec omittamus; Cave putes quicquam esse verius.', 'style_id': 'a'}\n",
      " {'data': [['sobaka', 'sobaka', 'sobaka', 'sobaka', '', '', 'dawn'], ['1', '2', '3', '', '', '', 'dawn'], ['6', '5', '4', '', '', '', 'dawn'], ['', '', '', '', '', '', 'dawn'], ['', '', '', '121', '', '', 'dawn']], 'merged_cells': {'0_1_0_4': 'sobaka', '0_5_6_7': 'dawn'}}\n",
      " {'text': 'KEKS', 'style_id': 'a5'} {'text': 'Wddw', 'style_id': 'a5'}\n",
      " {'text': 'Nigga', 'style_id': 'a5'} {'text': 'Rex', 'style_id': 'a5'}\n",
      " {'text': 'Dwdw', 'style_id': 'a5'} {'text': 'OOOOO', 'style_id': 'a5'}\n",
      " {'text': 'AAAAAAA', 'style_id': 'a5'} {'text': 'Fefe', 'style_id': 'a5'}\n",
      " {'text': 'Fefe', 'style_id': 'a5'} {'text': 'Fefef', 'style_id': 'a5'}\n",
      " {'text': 'Wddwd', 'style_id': 'a5'} {'text': 'Wd', 'style_id': 'a5'}\n",
      " {'text': 'fefefefeW', 'style_id': 'a5'}]\n"
     ]
    }
   ],
   "source": [
    "from docx_parser import DocumentParser\n",
    "import numpy as np\n",
    "infile = 'sample2.docx'\n",
    "doc = DocumentParser(infile)\n",
    "arr = np.array([])\n",
    "for _type, item in doc.parse():\n",
    "    arr = np.append(arr, item)\n",
    "#print(arr[0]['text'])\n",
    "print(arr)"
   ]
  }
 ],
 "metadata": {
  "kernelspec": {
   "display_name": "Python 3 (ipykernel)",
   "language": "python",
   "name": "python3"
  },
  "language_info": {
   "codemirror_mode": {
    "name": "ipython",
    "version": 3
   },
   "file_extension": ".py",
   "mimetype": "text/x-python",
   "name": "python",
   "nbconvert_exporter": "python",
   "pygments_lexer": "ipython3",
   "version": "3.12.4"
  }
 },
 "nbformat": 4,
 "nbformat_minor": 5
}
