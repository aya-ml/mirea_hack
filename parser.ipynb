{
 "cells": [
  {
   "cell_type": "code",
   "execution_count": 36,
   "id": "5ca9895a",
   "metadata": {},
   "outputs": [
    {
     "name": "stderr",
     "output_type": "stream",
     "text": [
      "OllamaEmbeddings: 100%|██████████| 3/3 [00:06<00:00,  2.09s/it]\n"
     ]
    },
    {
     "name": "stdout",
     "output_type": "stream",
     "text": [
      "Question: What share percent have VoiceOver screen reader?\n"
     ]
    },
    {
     "name": "stderr",
     "output_type": "stream",
     "text": [
      "OllamaEmbeddings: 100%|██████████| 1/1 [00:02<00:00,  2.07s/it]\n"
     ]
    },
    {
     "name": "stdout",
     "output_type": "stream",
     "text": [
      "Answer: 9%\n",
      "Структура документа сохранена в 'document_structure.json'\n"
     ]
    }
   ],
   "source": [
    "from docx import Document\n",
    "import json\n",
    "from langchain_community.vectorstores import FAISS\n",
    "from langchain_community.embeddings import OllamaEmbeddings\n",
    "from langchain_community.chat_models import ChatOllama\n",
    "from langchain.prompts import PromptTemplate\n",
    "from langchain_core.output_parsers import StrOutputParser\n",
    "from langchain_core.runnables import RunnablePassthrough\n",
    "from uuid import uuid4\n",
    "from langchain_core.documents import Document as LangchainDocument\n",
    "\n",
    "# Путь к файлу\n",
    "infile = 'sample3.docx'\n",
    "\n",
    "# Открываем документ\n",
    "doc = Document(infile)\n",
    "\n",
    "# Сбор текста, таблиц и списков\n",
    "all_structured_data = []  # Для хранения всех списков и таблиц\n",
    "\n",
    "# Проверка, является ли параграф частью списка\n",
    "def is_list_paragraph(paragraph):\n",
    "    style_name = paragraph.style.name.lower()\n",
    "    return \"list\" in style_name or \"bullet\" in style_name or \"number\" in style_name\n",
    "\n",
    "current_list = []  # Временное хранилище для текущего списка\n",
    "\n",
    "for paragraph in doc.paragraphs:\n",
    "    text = paragraph.text.strip()\n",
    "\n",
    "    if is_list_paragraph(paragraph):\n",
    "        if text:\n",
    "            current_list.append(text)  # Добавляем элемент в текущий список\n",
    "    else:\n",
    "        if current_list:  # Если список закончился, сохраняем его\n",
    "            all_structured_data.append({\"type\": \"list\", \"content\": current_list})\n",
    "            current_list = []\n",
    "\n",
    "        if text:  # Добавляем обычный текст\n",
    "            continue\n",
    "\n",
    "# Сохраняем последний список, если он остался\n",
    "if current_list:\n",
    "    all_structured_data.append({\"type\": \"list\", \"content\": current_list})\n",
    "\n",
    "# Обработка таблиц\n",
    "for table in doc.tables:\n",
    "    table_data = []\n",
    "    for row in table.rows:\n",
    "        row_data = [cell.text.strip() for cell in row.cells]\n",
    "        table_data.append(row_data)\n",
    "\n",
    "    all_structured_data.append({\"type\": \"table\", \"content\": table_data})\n",
    "\n",
    "# Конвертируем данные в формат документов для эмбеддинга\n",
    "data_documents = [\n",
    "    LangchainDocument(\n",
    "        page_content=json.dumps(item[\"content\"], ensure_ascii=False),\n",
    "        metadata={\"type\": item[\"type\"]}\n",
    "    ) for item in all_structured_data\n",
    "]\n",
    "\n",
    "# Создаем базу данных FAISS с эмбеддингами\n",
    "db = FAISS.from_documents(data_documents, OllamaEmbeddings(model=\"nomic-embed-text\", show_progress=True))\n",
    "retriever = db.as_retriever(search_type=\"similarity\", search_kwargs={\"k\": 4})\n",
    "\n",
    "# Настройка локальной модели\n",
    "local_model = \"llama3\"\n",
    "llm = ChatOllama(model=local_model, num_predict=400,\n",
    "                 stop=[\"<|start_header_id|>\", \"<|end_header_id|>\", \"<|eot_id|>\"])\n",
    "\n",
    "# Настройка цепочки RAG\n",
    "prompt_template = \"\"\"\n",
    "<|start_header_id|>user<|end_header_id|>\n",
    "Responds user questions taking into account the given context, give a precise and short answer without referring to this part of the prompt.\n",
    "Give as little additional information as possible.\n",
    "Question: {question}\n",
    "Context: {context}<|eot_id|><|start_header_id|>assistant<|end_header_id|>\n",
    "\"\"\"\n",
    "\n",
    "prompt = PromptTemplate(\n",
    "    input_variables=[\"context\", \"question\"],\n",
    "    template=prompt_template,\n",
    ")\n",
    "\n",
    "def format_docs(docs):\n",
    "    return \"\\n\\n\".join(doc.page_content for doc in docs)\n",
    "\n",
    "rag_chain = (\n",
    "    {\"context\": retriever | format_docs, \"question\": RunnablePassthrough()}\n",
    "    | prompt\n",
    "    | llm\n",
    "    | StrOutputParser()\n",
    ")\n",
    "\n",
    "# Тестирование RAG-цепочки\n",
    "question = \"What share percent have VoiceOver screen reader?\"\n",
    "print(\"Question:\", question)\n",
    "res = rag_chain.invoke(question)\n",
    "print(\"Answer:\", res)\n",
    "\n",
    "# Сохранение всех структурированных данных в файл\n",
    "with open(\"document_structure.json\", \"w\", encoding=\"utf-8\") as f:\n",
    "    json.dump(all_structured_data, f, ensure_ascii=False, indent=4)\n",
    "\n",
    "print(\"Структура документа сохранена в 'document_structure.json'\")\n"
   ]
  },
  {
   "cell_type": "code",
   "execution_count": 40,
   "id": "1fce5d05",
   "metadata": {},
   "outputs": [],
   "source": [
    "evaluator = EvaluationMetrics()\n",
    "\n",
    "reference = '9%'\n",
    "results = evaluator.evaluate([reference],[res])"
   ]
  },
  {
   "cell_type": "code",
   "execution_count": 41,
   "id": "a47845ab",
   "metadata": {},
   "outputs": [
    {
     "name": "stdout",
     "output_type": "stream",
     "text": [
      "ROUGE scores\n"
     ]
    },
    {
     "data": {
      "text/html": [
       "<div>\n",
       "<style scoped>\n",
       "    .dataframe tbody tr th:only-of-type {\n",
       "        vertical-align: middle;\n",
       "    }\n",
       "\n",
       "    .dataframe tbody tr th {\n",
       "        vertical-align: top;\n",
       "    }\n",
       "\n",
       "    .dataframe thead th {\n",
       "        text-align: right;\n",
       "    }\n",
       "</style>\n",
       "<table border=\"1\" class=\"dataframe\">\n",
       "  <thead>\n",
       "    <tr style=\"text-align: right;\">\n",
       "      <th></th>\n",
       "      <th>rouge-1</th>\n",
       "      <th>rouge-2</th>\n",
       "      <th>rouge-l</th>\n",
       "    </tr>\n",
       "  </thead>\n",
       "  <tbody>\n",
       "    <tr>\n",
       "      <th>r</th>\n",
       "      <td>1.0</td>\n",
       "      <td>0.0</td>\n",
       "      <td>1.0</td>\n",
       "    </tr>\n",
       "    <tr>\n",
       "      <th>p</th>\n",
       "      <td>1.0</td>\n",
       "      <td>0.0</td>\n",
       "      <td>1.0</td>\n",
       "    </tr>\n",
       "    <tr>\n",
       "      <th>f</th>\n",
       "      <td>1.0</td>\n",
       "      <td>0.0</td>\n",
       "      <td>1.0</td>\n",
       "    </tr>\n",
       "  </tbody>\n",
       "</table>\n",
       "</div>"
      ],
      "text/plain": [
       "   rouge-1  rouge-2  rouge-l\n",
       "r      1.0      0.0      1.0\n",
       "p      1.0      0.0      1.0\n",
       "f      1.0      0.0      1.0"
      ]
     },
     "execution_count": 41,
     "metadata": {},
     "output_type": "execute_result"
    }
   ],
   "source": [
    "print(\"ROUGE scores\")\n",
    "pd.DataFrame(results[\"rouge\"])"
   ]
  },
  {
   "cell_type": "code",
   "execution_count": 42,
   "id": "5580034b",
   "metadata": {},
   "outputs": [
    {
     "name": "stdout",
     "output_type": "stream",
     "text": [
      "BERTScore\n"
     ]
    },
    {
     "data": {
      "text/html": [
       "<div>\n",
       "<style scoped>\n",
       "    .dataframe tbody tr th:only-of-type {\n",
       "        vertical-align: middle;\n",
       "    }\n",
       "\n",
       "    .dataframe tbody tr th {\n",
       "        vertical-align: top;\n",
       "    }\n",
       "\n",
       "    .dataframe thead th {\n",
       "        text-align: right;\n",
       "    }\n",
       "</style>\n",
       "<table border=\"1\" class=\"dataframe\">\n",
       "  <thead>\n",
       "    <tr style=\"text-align: right;\">\n",
       "      <th></th>\n",
       "      <th>score</th>\n",
       "    </tr>\n",
       "  </thead>\n",
       "  <tbody>\n",
       "    <tr>\n",
       "      <th>precision</th>\n",
       "      <td>1.0</td>\n",
       "    </tr>\n",
       "    <tr>\n",
       "      <th>recall</th>\n",
       "      <td>1.0</td>\n",
       "    </tr>\n",
       "    <tr>\n",
       "      <th>f1</th>\n",
       "      <td>1.0</td>\n",
       "    </tr>\n",
       "  </tbody>\n",
       "</table>\n",
       "</div>"
      ],
      "text/plain": [
       "           score\n",
       "precision    1.0\n",
       "recall       1.0\n",
       "f1           1.0"
      ]
     },
     "execution_count": 42,
     "metadata": {},
     "output_type": "execute_result"
    }
   ],
   "source": [
    "print(\"BERTScore\")\n",
    "pd.DataFrame(results[\"bertscore\"], index=['score']).T"
   ]
  }
 ],
 "metadata": {
  "kernelspec": {
   "display_name": "base",
   "language": "python",
   "name": "python3"
  },
  "language_info": {
   "codemirror_mode": {
    "name": "ipython",
    "version": 3
   },
   "file_extension": ".py",
   "mimetype": "text/x-python",
   "name": "python",
   "nbconvert_exporter": "python",
   "pygments_lexer": "ipython3",
   "version": "3.12.4"
  }
 },
 "nbformat": 4,
 "nbformat_minor": 5
}
