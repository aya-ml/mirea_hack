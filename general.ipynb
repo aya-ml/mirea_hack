{
 "cells": [
  {
   "cell_type": "code",
   "execution_count": 4,
   "metadata": {},
   "outputs": [],
   "source": [
    "from docx import Document\n",
    "\n",
    "def parse_docx1(file_path: str) -> dict:\n",
    "    \"\"\"\n",
    "    Парсит таблицы и списки из docx-файла, представляя каждый список как отдельный Python list.\n",
    "    \n",
    "    :param file_path: Путь к файлу .docx\n",
    "    :return: Словарь с таблицами и списками\n",
    "    \"\"\"\n",
    "    doc = Document(file_path)\n",
    "    \n",
    "    parsed_data = {\n",
    "        \"tables\": [[\n",
    "            [cell.text.strip() for cell in row.cells]\n",
    "            for row in table.rows\n",
    "        ] for table in doc.tables],\n",
    "        \"numbered_lists\": [],\n",
    "        \"bullet_lists\": [],\n",
    "    }\n",
    "\n",
    "    current_list, current_type = [], None\n",
    "    \n",
    "    for paragraph in doc.paragraphs:\n",
    "        text = paragraph.text.strip()\n",
    "        if not text:\n",
    "            continue\n",
    "\n",
    "        style_name = paragraph.style.name.lower()\n",
    "        is_numbered = \"list number\" in style_name\n",
    "        is_bullet = \"list bullet\" in style_name\n",
    "\n",
    "        if is_numbered or is_bullet:\n",
    "            new_type = \"numbered\" if is_numbered else \"bullet\"\n",
    "            if current_type != new_type:\n",
    "                if current_list:\n",
    "                    parsed_data[f\"{current_type}_lists\"].append(current_list)\n",
    "                current_list, current_type = [], new_type\n",
    "            current_list.append(text)\n",
    "        else:\n",
    "            if current_list:\n",
    "                parsed_data[f\"{current_type}_lists\"].append(current_list)\n",
    "                current_list, current_type = [], None\n",
    "\n",
    "    if current_list:\n",
    "        parsed_data[f\"{current_type}_lists\"].append(current_list)\n",
    "    \n",
    "    return parsed_data"
   ]
  },
  {
   "cell_type": "code",
   "execution_count": 5,
   "metadata": {},
   "outputs": [],
   "source": [
    "out = parse_docx1(\"someshit.docx\")"
   ]
  },
  {
   "cell_type": "code",
   "execution_count": 6,
   "metadata": {},
   "outputs": [
    {
     "data": {
      "text/plain": [
       "{'tables': [[['Document History', 'Document History', 'Document History'],\n",
       "   ['Release number', 'Release date', 'Document number'],\n",
       "   ['1.0', '20 April 2006', 's05pu378.v01.doc'],\n",
       "   ['2.0', '02 August 2006', 's05pu378.v02.doc'],\n",
       "   ['3.0', '04 August 2006', 's05pu378.v03.doc'],\n",
       "   ['4.0', '21 August 2006', 's05pu378.v04.doc'],\n",
       "   ['4.1', '30 August 2010', 's05pu378.v08.docx'],\n",
       "   ['4.2', '25 January 2013', 's05pu378.v10.docx'],\n",
       "   ['4.3 - renumbered only', '27 July 2016', 's05pu378.v13.docx'],\n",
       "   ['4.4', '24 June 2019', 's05pu378.v20.docx'],\n",
       "   ['4.5', '24 August 2021', 's05pu378.v23.docx']]],\n",
       " 'numbered_lists': [],\n",
       " 'bullet_lists': []}"
      ]
     },
     "execution_count": 6,
     "metadata": {},
     "output_type": "execute_result"
    }
   ],
   "source": [
    "out"
   ]
  }
 ],
 "metadata": {
  "kernelspec": {
   "display_name": "general",
   "language": "python",
   "name": "python3"
  },
  "language_info": {
   "codemirror_mode": {
    "name": "ipython",
    "version": 3
   },
   "file_extension": ".py",
   "mimetype": "text/x-python",
   "name": "python",
   "nbconvert_exporter": "python",
   "pygments_lexer": "ipython3",
   "version": "3.10.15"
  }
 },
 "nbformat": 4,
 "nbformat_minor": 2
}
