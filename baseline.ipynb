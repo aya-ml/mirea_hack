{
 "cells": [
  {
   "cell_type": "code",
   "execution_count": null,
   "id": "c8a45bde",
   "metadata": {},
   "outputs": [
    {
     "name": "stderr",
     "output_type": "stream",
     "text": [
      "c:\\Users\\Alexandr\\AppData\\Local\\Programs\\Python\\Python39\\lib\\site-packages\\tqdm\\auto.py:21: TqdmWarning: IProgress not found. Please update jupyter and ipywidgets. See https://ipywidgets.readthedocs.io/en/stable/user_install.html\n",
      "  from .autonotebook import tqdm as notebook_tqdm\n"
     ]
    }
   ],
   "source": [
    "from DataPrepare.PrepareDocx import DocxParser as dp\n",
    "from DataPrepare.Vectors import VectorDatabase"
   ]
  },
  {
   "cell_type": "code",
   "execution_count": 2,
   "id": "94358b55-ad83-474e-a237-9c478266d55e",
   "metadata": {
    "scrolled": true
   },
   "outputs": [],
   "source": [
    "documents = []\n",
    "\n",
    "for doc in range(4):\n",
    "    file_path = f\"WordDocuments/sample{doc + 1}.docx\"\n",
    "\n",
    "    parsed_data = dp.parse_docx(file_path)\n",
    "    documents.append(parsed_data)"
   ]
  },
  {
   "cell_type": "code",
   "execution_count": 3,
   "id": "053e7060",
   "metadata": {},
   "outputs": [
    {
     "name": "stderr",
     "output_type": "stream",
     "text": [
      "c:\\Users\\Alexandr\\AppData\\Local\\Programs\\Python\\Python39\\lib\\site-packages\\huggingface_hub\\file_download.py:139: UserWarning: `huggingface_hub` cache-system uses symlinks by default to efficiently store duplicated files but your machine does not support them in C:\\Users\\Alexandr\\.cache\\huggingface\\hub\\models--sentence-transformers--paraphrase-distilroberta-base-v1. Caching files will still work but in a degraded version that might require more space on your disk. This warning can be disabled by setting the `HF_HUB_DISABLE_SYMLINKS_WARNING` environment variable. For more details, see https://huggingface.co/docs/huggingface_hub/how-to-cache#limitations.\n",
      "To support symlinks on Windows, you either need to activate Developer Mode or to run Python as an administrator. In order to activate developer mode, see this article: https://docs.microsoft.com/en-us/windows/apps/get-started/enable-your-device-for-development\n",
      "  warnings.warn(message)\n"
     ]
    }
   ],
   "source": [
    "db = VectorDatabase()\n",
    "db.fit(documents)"
   ]
  },
  {
   "cell_type": "code",
   "execution_count": 8,
   "id": "16faf143",
   "metadata": {},
   "outputs": [
    {
     "name": "stdout",
     "output_type": "stream",
     "text": [
      "Текст: Some images, such as charts or graphs, require long descriptions, but not all document types allow that. In web pages, long descriptions may be provided in several ways: on the page below the image, via a link below the image, or via a link on the image.\n",
      "Дистанция: 41.30829620361328\n"
     ]
    }
   ],
   "source": [
    "query = \"Some images, such as charts or graphs\"\n",
    "result = db.search(query, top_k=1)[0]\n",
    "\n",
    "print(f\"Текст: {result['text']}\\nДистанция: {result['distance']}\")"
   ]
  }
 ],
 "metadata": {
  "kernelspec": {
   "display_name": "Python 3",
   "language": "python",
   "name": "python3"
  },
  "language_info": {
   "codemirror_mode": {
    "name": "ipython",
    "version": 3
   },
   "file_extension": ".py",
   "mimetype": "text/x-python",
   "name": "python",
   "nbconvert_exporter": "python",
   "pygments_lexer": "ipython3",
   "version": "3.9.0"
  }
 },
 "nbformat": 4,
 "nbformat_minor": 5
}
