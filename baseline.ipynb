{
 "cells": [
  {
   "cell_type": "markdown",
   "id": "5891e143",
   "metadata": {},
   "source": [
    "# Генерация ответа на русском языке (T-Lite)"
   ]
  },
  {
   "cell_type": "markdown",
   "id": "719e1e7a",
   "metadata": {},
   "source": [
    "### Установка требуемых модулей"
   ]
  },
  {
   "cell_type": "code",
   "execution_count": 17,
   "id": "af3595bc",
   "metadata": {},
   "outputs": [
    {
     "name": "stdout",
     "output_type": "stream",
     "text": [
      "Requirement already satisfied: accelerate==1.2.0 in c:\\users\\alexandr\\appdata\\local\\programs\\python\\python39\\lib\\site-packages (from -r requirements.txt (line 1)) (1.2.0)\n",
      "Requirement already satisfied: asttokens==3.0.0 in c:\\users\\alexandr\\appdata\\roaming\\python\\python39\\site-packages (from -r requirements.txt (line 2)) (3.0.0)\n",
      "Requirement already satisfied: bert-score==0.3.13 in c:\\users\\alexandr\\appdata\\local\\programs\\python\\python39\\lib\\site-packages (from -r requirements.txt (line 3)) (0.3.13)\n",
      "Requirement already satisfied: certifi==2024.8.30 in c:\\users\\alexandr\\appdata\\local\\programs\\python\\python39\\lib\\site-packages (from -r requirements.txt (line 4)) (2024.8.30)\n",
      "Requirement already satisfied: charset-normalizer==3.4.0 in c:\\users\\alexandr\\appdata\\local\\programs\\python\\python39\\lib\\site-packages (from -r requirements.txt (line 5)) (3.4.0)\n",
      "Requirement already satisfied: colorama==0.4.6 in c:\\users\\alexandr\\appdata\\roaming\\python\\python39\\site-packages (from -r requirements.txt (line 6)) (0.4.6)\n",
      "Requirement already satisfied: comm==0.2.2 in c:\\users\\alexandr\\appdata\\roaming\\python\\python39\\site-packages (from -r requirements.txt (line 7)) (0.2.2)\n",
      "Requirement already satisfied: contourpy==1.3.0 in c:\\users\\alexandr\\appdata\\local\\programs\\python\\python39\\lib\\site-packages (from -r requirements.txt (line 8)) (1.3.0)\n",
      "Requirement already satisfied: cycler==0.12.1 in c:\\users\\alexandr\\appdata\\local\\programs\\python\\python39\\lib\\site-packages (from -r requirements.txt (line 9)) (0.12.1)\n",
      "Requirement already satisfied: debugpy==1.8.9 in c:\\users\\alexandr\\appdata\\roaming\\python\\python39\\site-packages (from -r requirements.txt (line 10)) (1.8.9)\n",
      "Requirement already satisfied: decorator==5.1.1 in c:\\users\\alexandr\\appdata\\roaming\\python\\python39\\site-packages (from -r requirements.txt (line 11)) (5.1.1)\n",
      "Requirement already satisfied: docx==0.2.4 in c:\\users\\alexandr\\appdata\\local\\programs\\python\\python39\\lib\\site-packages (from -r requirements.txt (line 12)) (0.2.4)\n",
      "Requirement already satisfied: exceptiongroup==1.2.2 in c:\\users\\alexandr\\appdata\\roaming\\python\\python39\\site-packages (from -r requirements.txt (line 13)) (1.2.2)\n",
      "Requirement already satisfied: executing==2.1.0 in c:\\users\\alexandr\\appdata\\roaming\\python\\python39\\site-packages (from -r requirements.txt (line 14)) (2.1.0)\n",
      "Requirement already satisfied: faiss-cpu==1.9.0.post1 in c:\\users\\alexandr\\appdata\\local\\programs\\python\\python39\\lib\\site-packages (from -r requirements.txt (line 15)) (1.9.0.post1)\n",
      "Requirement already satisfied: filelock==3.16.1 in c:\\users\\alexandr\\appdata\\local\\programs\\python\\python39\\lib\\site-packages (from -r requirements.txt (line 16)) (3.16.1)\n",
      "Requirement already satisfied: fonttools==4.55.3 in c:\\users\\alexandr\\appdata\\local\\programs\\python\\python39\\lib\\site-packages (from -r requirements.txt (line 17)) (4.55.3)\n",
      "Requirement already satisfied: fsspec==2024.10.0 in c:\\users\\alexandr\\appdata\\local\\programs\\python\\python39\\lib\\site-packages (from -r requirements.txt (line 18)) (2024.10.0)\n",
      "Requirement already satisfied: huggingface-hub==0.26.5 in c:\\users\\alexandr\\appdata\\local\\programs\\python\\python39\\lib\\site-packages (from -r requirements.txt (line 19)) (0.26.5)\n",
      "Requirement already satisfied: idna==3.10 in c:\\users\\alexandr\\appdata\\local\\programs\\python\\python39\\lib\\site-packages (from -r requirements.txt (line 20)) (3.10)\n",
      "Requirement already satisfied: importlib_metadata==8.5.0 in c:\\users\\alexandr\\appdata\\roaming\\python\\python39\\site-packages (from -r requirements.txt (line 21)) (8.5.0)\n",
      "Requirement already satisfied: importlib_resources==6.4.5 in c:\\users\\alexandr\\appdata\\local\\programs\\python\\python39\\lib\\site-packages (from -r requirements.txt (line 22)) (6.4.5)\n",
      "Requirement already satisfied: ipykernel==6.29.5 in c:\\users\\alexandr\\appdata\\roaming\\python\\python39\\site-packages (from -r requirements.txt (line 23)) (6.29.5)\n",
      "Requirement already satisfied: ipython==8.18.1 in c:\\users\\alexandr\\appdata\\roaming\\python\\python39\\site-packages (from -r requirements.txt (line 24)) (8.18.1)\n",
      "Requirement already satisfied: ipywidgets==8.1.5 in c:\\users\\alexandr\\appdata\\local\\programs\\python\\python39\\lib\\site-packages (from -r requirements.txt (line 25)) (8.1.5)\n",
      "Requirement already satisfied: jedi==0.19.2 in c:\\users\\alexandr\\appdata\\roaming\\python\\python39\\site-packages (from -r requirements.txt (line 26)) (0.19.2)\n",
      "Requirement already satisfied: Jinja2==3.1.4 in c:\\users\\alexandr\\appdata\\local\\programs\\python\\python39\\lib\\site-packages (from -r requirements.txt (line 27)) (3.1.4)\n",
      "Requirement already satisfied: joblib==1.4.2 in c:\\users\\alexandr\\appdata\\local\\programs\\python\\python39\\lib\\site-packages (from -r requirements.txt (line 28)) (1.4.2)\n",
      "Requirement already satisfied: jupyter_client==8.6.3 in c:\\users\\alexandr\\appdata\\roaming\\python\\python39\\site-packages (from -r requirements.txt (line 29)) (8.6.3)\n",
      "Requirement already satisfied: jupyter_core==5.7.2 in c:\\users\\alexandr\\appdata\\roaming\\python\\python39\\site-packages (from -r requirements.txt (line 30)) (5.7.2)\n",
      "Requirement already satisfied: jupyterlab_widgets==3.0.13 in c:\\users\\alexandr\\appdata\\local\\programs\\python\\python39\\lib\\site-packages (from -r requirements.txt (line 31)) (3.0.13)\n",
      "Requirement already satisfied: kiwisolver==1.4.7 in c:\\users\\alexandr\\appdata\\local\\programs\\python\\python39\\lib\\site-packages (from -r requirements.txt (line 32)) (1.4.7)\n",
      "Requirement already satisfied: lxml==5.3.0 in c:\\users\\alexandr\\appdata\\local\\programs\\python\\python39\\lib\\site-packages (from -r requirements.txt (line 33)) (5.3.0)\n",
      "Requirement already satisfied: MarkupSafe==3.0.2 in c:\\users\\alexandr\\appdata\\local\\programs\\python\\python39\\lib\\site-packages (from -r requirements.txt (line 34)) (3.0.2)\n",
      "Requirement already satisfied: matplotlib==3.9.3 in c:\\users\\alexandr\\appdata\\local\\programs\\python\\python39\\lib\\site-packages (from -r requirements.txt (line 35)) (3.9.3)\n",
      "Requirement already satisfied: matplotlib-inline==0.1.7 in c:\\users\\alexandr\\appdata\\roaming\\python\\python39\\site-packages (from -r requirements.txt (line 36)) (0.1.7)\n",
      "Requirement already satisfied: mpmath==1.3.0 in c:\\users\\alexandr\\appdata\\local\\programs\\python\\python39\\lib\\site-packages (from -r requirements.txt (line 37)) (1.3.0)\n",
      "Requirement already satisfied: nest-asyncio==1.6.0 in c:\\users\\alexandr\\appdata\\roaming\\python\\python39\\site-packages (from -r requirements.txt (line 38)) (1.6.0)\n",
      "Requirement already satisfied: networkx==3.2.1 in c:\\users\\alexandr\\appdata\\local\\programs\\python\\python39\\lib\\site-packages (from -r requirements.txt (line 39)) (3.2.1)\n",
      "Requirement already satisfied: numpy==2.0.2 in c:\\users\\alexandr\\appdata\\local\\programs\\python\\python39\\lib\\site-packages (from -r requirements.txt (line 40)) (2.0.2)\n",
      "Requirement already satisfied: packaging==24.2 in c:\\users\\alexandr\\appdata\\roaming\\python\\python39\\site-packages (from -r requirements.txt (line 41)) (24.2)\n",
      "Requirement already satisfied: pandas==2.2.3 in c:\\users\\alexandr\\appdata\\local\\programs\\python\\python39\\lib\\site-packages (from -r requirements.txt (line 42)) (2.2.3)\n",
      "Requirement already satisfied: parso==0.8.4 in c:\\users\\alexandr\\appdata\\roaming\\python\\python39\\site-packages (from -r requirements.txt (line 43)) (0.8.4)\n",
      "Requirement already satisfied: pillow==11.0.0 in c:\\users\\alexandr\\appdata\\local\\programs\\python\\python39\\lib\\site-packages (from -r requirements.txt (line 44)) (11.0.0)\n",
      "Requirement already satisfied: platformdirs==4.3.6 in c:\\users\\alexandr\\appdata\\roaming\\python\\python39\\site-packages (from -r requirements.txt (line 45)) (4.3.6)\n",
      "Requirement already satisfied: prompt_toolkit==3.0.48 in c:\\users\\alexandr\\appdata\\roaming\\python\\python39\\site-packages (from -r requirements.txt (line 46)) (3.0.48)\n",
      "Requirement already satisfied: protobuf==5.29.1 in c:\\users\\alexandr\\appdata\\local\\programs\\python\\python39\\lib\\site-packages (from -r requirements.txt (line 47)) (5.29.1)\n",
      "Requirement already satisfied: psutil==6.1.0 in c:\\users\\alexandr\\appdata\\roaming\\python\\python39\\site-packages (from -r requirements.txt (line 48)) (6.1.0)\n",
      "Requirement already satisfied: pure_eval==0.2.3 in c:\\users\\alexandr\\appdata\\roaming\\python\\python39\\site-packages (from -r requirements.txt (line 49)) (0.2.3)\n",
      "Requirement already satisfied: Pygments==2.18.0 in c:\\users\\alexandr\\appdata\\roaming\\python\\python39\\site-packages (from -r requirements.txt (line 50)) (2.18.0)\n",
      "Requirement already satisfied: pyparsing==3.2.0 in c:\\users\\alexandr\\appdata\\local\\programs\\python\\python39\\lib\\site-packages (from -r requirements.txt (line 51)) (3.2.0)\n",
      "Requirement already satisfied: python-dateutil==2.9.0.post0 in c:\\users\\alexandr\\appdata\\roaming\\python\\python39\\site-packages (from -r requirements.txt (line 52)) (2.9.0.post0)\n",
      "Requirement already satisfied: python-docx==1.1.2 in c:\\users\\alexandr\\appdata\\local\\programs\\python\\python39\\lib\\site-packages (from -r requirements.txt (line 53)) (1.1.2)\n",
      "Requirement already satisfied: pytz==2024.2 in c:\\users\\alexandr\\appdata\\local\\programs\\python\\python39\\lib\\site-packages (from -r requirements.txt (line 54)) (2024.2)\n",
      "Requirement already satisfied: pywin32==308 in c:\\users\\alexandr\\appdata\\roaming\\python\\python39\\site-packages (from -r requirements.txt (line 55)) (308)\n",
      "Requirement already satisfied: PyYAML==6.0.2 in c:\\users\\alexandr\\appdata\\local\\programs\\python\\python39\\lib\\site-packages (from -r requirements.txt (line 56)) (6.0.2)\n",
      "Requirement already satisfied: pyzmq==26.2.0 in c:\\users\\alexandr\\appdata\\roaming\\python\\python39\\site-packages (from -r requirements.txt (line 57)) (26.2.0)\n",
      "Requirement already satisfied: regex==2024.11.6 in c:\\users\\alexandr\\appdata\\local\\programs\\python\\python39\\lib\\site-packages (from -r requirements.txt (line 58)) (2024.11.6)\n",
      "Requirement already satisfied: requests==2.32.3 in c:\\users\\alexandr\\appdata\\local\\programs\\python\\python39\\lib\\site-packages (from -r requirements.txt (line 59)) (2.32.3)\n",
      "Requirement already satisfied: rouge==1.0.1 in c:\\users\\alexandr\\appdata\\local\\programs\\python\\python39\\lib\\site-packages (from -r requirements.txt (line 60)) (1.0.1)\n",
      "Requirement already satisfied: safetensors==0.4.5 in c:\\users\\alexandr\\appdata\\local\\programs\\python\\python39\\lib\\site-packages (from -r requirements.txt (line 61)) (0.4.5)\n",
      "Requirement already satisfied: scikit-learn==1.6.0 in c:\\users\\alexandr\\appdata\\local\\programs\\python\\python39\\lib\\site-packages (from -r requirements.txt (line 62)) (1.6.0)\n",
      "Requirement already satisfied: scipy==1.13.1 in c:\\users\\alexandr\\appdata\\local\\programs\\python\\python39\\lib\\site-packages (from -r requirements.txt (line 63)) (1.13.1)\n",
      "Requirement already satisfied: sentence-transformers==3.3.1 in c:\\users\\alexandr\\appdata\\local\\programs\\python\\python39\\lib\\site-packages (from -r requirements.txt (line 64)) (3.3.1)\n",
      "Requirement already satisfied: sentencepiece==0.2.0 in c:\\users\\alexandr\\appdata\\local\\programs\\python\\python39\\lib\\site-packages (from -r requirements.txt (line 65)) (0.2.0)\n",
      "Requirement already satisfied: six==1.17.0 in c:\\users\\alexandr\\appdata\\roaming\\python\\python39\\site-packages (from -r requirements.txt (line 66)) (1.17.0)\n",
      "Requirement already satisfied: stack-data==0.6.3 in c:\\users\\alexandr\\appdata\\roaming\\python\\python39\\site-packages (from -r requirements.txt (line 67)) (0.6.3)\n",
      "Requirement already satisfied: sympy==1.13.1 in c:\\users\\alexandr\\appdata\\local\\programs\\python\\python39\\lib\\site-packages (from -r requirements.txt (line 68)) (1.13.1)\n",
      "Requirement already satisfied: threadpoolctl==3.5.0 in c:\\users\\alexandr\\appdata\\local\\programs\\python\\python39\\lib\\site-packages (from -r requirements.txt (line 69)) (3.5.0)\n",
      "Requirement already satisfied: tokenizers==0.21.0 in c:\\users\\alexandr\\appdata\\local\\programs\\python\\python39\\lib\\site-packages (from -r requirements.txt (line 70)) (0.21.0)\n",
      "Requirement already satisfied: torch==2.6.0.dev20241211+cu126 in c:\\users\\alexandr\\appdata\\local\\programs\\python\\python39\\lib\\site-packages (from -r requirements.txt (line 71)) (2.6.0.dev20241211+cu126)\n",
      "Requirement already satisfied: torchaudio==2.5.0.dev20241211+cu126 in c:\\users\\alexandr\\appdata\\local\\programs\\python\\python39\\lib\\site-packages (from -r requirements.txt (line 72)) (2.5.0.dev20241211+cu126)\n",
      "Requirement already satisfied: torchvision==0.20.0.dev20241211+cu126 in c:\\users\\alexandr\\appdata\\local\\programs\\python\\python39\\lib\\site-packages (from -r requirements.txt (line 73)) (0.20.0.dev20241211+cu126)\n",
      "Requirement already satisfied: tornado==6.4.2 in c:\\users\\alexandr\\appdata\\roaming\\python\\python39\\site-packages (from -r requirements.txt (line 74)) (6.4.2)\n",
      "Requirement already satisfied: tqdm==4.67.1 in c:\\users\\alexandr\\appdata\\local\\programs\\python\\python39\\lib\\site-packages (from -r requirements.txt (line 75)) (4.67.1)\n",
      "Requirement already satisfied: traitlets==5.14.3 in c:\\users\\alexandr\\appdata\\roaming\\python\\python39\\site-packages (from -r requirements.txt (line 76)) (5.14.3)\n",
      "Requirement already satisfied: transformers==4.47.0 in c:\\users\\alexandr\\appdata\\local\\programs\\python\\python39\\lib\\site-packages (from -r requirements.txt (line 77)) (4.47.0)\n",
      "Requirement already satisfied: typing_extensions==4.12.2 in c:\\users\\alexandr\\appdata\\roaming\\python\\python39\\site-packages (from -r requirements.txt (line 78)) (4.12.2)\n",
      "Requirement already satisfied: tzdata==2024.2 in c:\\users\\alexandr\\appdata\\local\\programs\\python\\python39\\lib\\site-packages (from -r requirements.txt (line 79)) (2024.2)\n",
      "Requirement already satisfied: urllib3==2.2.3 in c:\\users\\alexandr\\appdata\\local\\programs\\python\\python39\\lib\\site-packages (from -r requirements.txt (line 80)) (2.2.3)\n",
      "Requirement already satisfied: wcwidth==0.2.13 in c:\\users\\alexandr\\appdata\\roaming\\python\\python39\\site-packages (from -r requirements.txt (line 81)) (0.2.13)\n",
      "Requirement already satisfied: widgetsnbextension==4.0.13 in c:\\users\\alexandr\\appdata\\local\\programs\\python\\python39\\lib\\site-packages (from -r requirements.txt (line 82)) (4.0.13)\n",
      "Requirement already satisfied: zipp==3.21.0 in c:\\users\\alexandr\\appdata\\roaming\\python\\python39\\site-packages (from -r requirements.txt (line 83)) (3.21.0)\n"
     ]
    }
   ],
   "source": [
    "!pip install -r requirements.txt"
   ]
  },
  {
   "cell_type": "markdown",
   "id": "4bef4bff",
   "metadata": {},
   "source": [
    "### Импорт модулей"
   ]
  },
  {
   "cell_type": "code",
   "execution_count": 16,
   "id": "c8a45bde",
   "metadata": {},
   "outputs": [],
   "source": [
    "from DataPrepare.docx_parser import DocxParser\n",
    "from DataPrepare.vector_base import VectorBase\n",
    "from DataPrepare.evaluation_metrics import EvaluationMetrics\n",
    "from DataPrepare.generator import AdvancedGenerator\n",
    "\n",
    "import pandas as pd"
   ]
  },
  {
   "cell_type": "markdown",
   "id": "18ea8134",
   "metadata": {},
   "source": [
    "### Парсинг данных"
   ]
  },
  {
   "cell_type": "code",
   "execution_count": 2,
   "id": "64d2de60",
   "metadata": {},
   "outputs": [],
   "source": [
    "dp = DocxParser(50)"
   ]
  },
  {
   "cell_type": "code",
   "execution_count": 3,
   "id": "94358b55-ad83-474e-a237-9c478266d55e",
   "metadata": {
    "scrolled": true
   },
   "outputs": [],
   "source": [
    "documents = []\n",
    "\n",
    "for doc in range(4):\n",
    "    file_path = f\"WordDocuments/sample{doc + 1}.docx\"\n",
    "\n",
    "    parsed_data = dp.parse_docx(file_path, f'sample{doc + 1}')\n",
    "    documents.append(parsed_data)"
   ]
  },
  {
   "cell_type": "markdown",
   "id": "548cb751",
   "metadata": {},
   "source": [
    "### Создание векторной базы данных"
   ]
  },
  {
   "cell_type": "code",
   "execution_count": 4,
   "id": "053e7060",
   "metadata": {},
   "outputs": [],
   "source": [
    "db = VectorBase()\n",
    "db.fit(documents)"
   ]
  },
  {
   "cell_type": "markdown",
   "id": "4f9d622c",
   "metadata": {},
   "source": [
    "Генерация контекста для запроса пользователя"
   ]
  },
  {
   "cell_type": "code",
   "execution_count": 5,
   "id": "16faf143",
   "metadata": {},
   "outputs": [],
   "source": [
    "query = \"Name all types of screen readers\"\n",
    "search_results = db.search(query, top_k=10)\n",
    "\n",
    "context = \" \".join([t[0] for t in sorted([(result[\"text\"], result[\"id\"]) for result in search_results], key=lambda el: el[1])])"
   ]
  },
  {
   "cell_type": "markdown",
   "id": "bb1f9861",
   "metadata": {},
   "source": [
    "### Генерация ответа"
   ]
  },
  {
   "cell_type": "code",
   "execution_count": 6,
   "id": "0cfbd44b",
   "metadata": {},
   "outputs": [
    {
     "data": {
      "application/vnd.jupyter.widget-view+json": {
       "model_id": "b78f039012114b4aa47c9b343987d3eb",
       "version_major": 2,
       "version_minor": 0
      },
      "text/plain": [
       "Loading checkpoint shards:   0%|          | 0/4 [00:00<?, ?it/s]"
      ]
     },
     "metadata": {},
     "output_type": "display_data"
    },
    {
     "name": "stderr",
     "output_type": "stream",
     "text": [
      "Some parameters are on the meta device because they were offloaded to the disk and cpu.\n"
     ]
    }
   ],
   "source": [
    "generator = AdvancedGenerator()"
   ]
  },
  {
   "cell_type": "code",
   "execution_count": 7,
   "id": "95d1ee08",
   "metadata": {},
   "outputs": [
    {
     "name": "stdout",
     "output_type": "stream",
     "text": [
      "Name all types of screen readers\n",
      "\n",
      "На основе предоставленного контекста, вот список упомянутых программ для чтения с экрана (screen readers):\n",
      "\n",
      "1. JAWS\n",
      "2. NVDA\n",
      "3. Window-Eyes\n",
      "4. System Access\n",
      "5. VoiceOver\n",
      "\n",
      "Если вы ищете более полный список, стоит отметить, что существуют и другие программы для чтения с экрана, такие как:\n",
      "\n",
      "- TalkBack (для Android)\n",
      "- Narrator (в Windows)\n",
      "- ChromeVox (для Chrome OS)\n",
      "- Orca (для Linux)\n",
      "\n",
      "Эти программы помогают людям с нарушениями зрения или другими ограничениями воспринимать цифровой контент.\n"
     ]
    }
   ],
   "source": [
    "answer = generator.generate_answer(query, context)\n",
    "\n",
    "print(query + '\\n')\n",
    "print(answer)"
   ]
  },
  {
   "cell_type": "markdown",
   "id": "36f79689",
   "metadata": {},
   "source": [
    "### Подсчет метрик"
   ]
  },
  {
   "cell_type": "code",
   "execution_count": 11,
   "id": "76a1061e",
   "metadata": {},
   "outputs": [],
   "source": [
    "evaluator = EvaluationMetrics()\n",
    "\n",
    "references = ['1. JAWS 2. NVDA 3. Window-Eyes 4. System Access 5. VoiceOver']\n",
    "results = evaluator.evaluate(references,[answer])"
   ]
  },
  {
   "cell_type": "code",
   "execution_count": 12,
   "id": "99a2e6c4",
   "metadata": {},
   "outputs": [
    {
     "name": "stdout",
     "output_type": "stream",
     "text": [
      "ROUGE scores\n"
     ]
    },
    {
     "data": {
      "text/html": [
       "<div>\n",
       "<style scoped>\n",
       "    .dataframe tbody tr th:only-of-type {\n",
       "        vertical-align: middle;\n",
       "    }\n",
       "\n",
       "    .dataframe tbody tr th {\n",
       "        vertical-align: top;\n",
       "    }\n",
       "\n",
       "    .dataframe thead th {\n",
       "        text-align: right;\n",
       "    }\n",
       "</style>\n",
       "<table border=\"1\" class=\"dataframe\">\n",
       "  <thead>\n",
       "    <tr style=\"text-align: right;\">\n",
       "      <th></th>\n",
       "      <th>rouge-1</th>\n",
       "      <th>rouge-2</th>\n",
       "      <th>rouge-l</th>\n",
       "    </tr>\n",
       "  </thead>\n",
       "  <tbody>\n",
       "    <tr>\n",
       "      <th>r</th>\n",
       "      <td>1.000000</td>\n",
       "      <td>1.000000</td>\n",
       "      <td>1.000000</td>\n",
       "    </tr>\n",
       "    <tr>\n",
       "      <th>p</th>\n",
       "      <td>0.171875</td>\n",
       "      <td>0.140845</td>\n",
       "      <td>0.171875</td>\n",
       "    </tr>\n",
       "    <tr>\n",
       "      <th>f</th>\n",
       "      <td>0.293333</td>\n",
       "      <td>0.246914</td>\n",
       "      <td>0.293333</td>\n",
       "    </tr>\n",
       "  </tbody>\n",
       "</table>\n",
       "</div>"
      ],
      "text/plain": [
       "    rouge-1   rouge-2   rouge-l\n",
       "r  1.000000  1.000000  1.000000\n",
       "p  0.171875  0.140845  0.171875\n",
       "f  0.293333  0.246914  0.293333"
      ]
     },
     "execution_count": 12,
     "metadata": {},
     "output_type": "execute_result"
    }
   ],
   "source": [
    "print(\"ROUGE scores\")\n",
    "pd.DataFrame(results[\"rouge\"])"
   ]
  },
  {
   "cell_type": "code",
   "execution_count": 13,
   "id": "792e052c",
   "metadata": {},
   "outputs": [
    {
     "name": "stdout",
     "output_type": "stream",
     "text": [
      "BERTScore\n"
     ]
    },
    {
     "data": {
      "text/html": [
       "<div>\n",
       "<style scoped>\n",
       "    .dataframe tbody tr th:only-of-type {\n",
       "        vertical-align: middle;\n",
       "    }\n",
       "\n",
       "    .dataframe tbody tr th {\n",
       "        vertical-align: top;\n",
       "    }\n",
       "\n",
       "    .dataframe thead th {\n",
       "        text-align: right;\n",
       "    }\n",
       "</style>\n",
       "<table border=\"1\" class=\"dataframe\">\n",
       "  <thead>\n",
       "    <tr style=\"text-align: right;\">\n",
       "      <th></th>\n",
       "      <th>score</th>\n",
       "    </tr>\n",
       "  </thead>\n",
       "  <tbody>\n",
       "    <tr>\n",
       "      <th>precision</th>\n",
       "      <td>0.509667</td>\n",
       "    </tr>\n",
       "    <tr>\n",
       "      <th>recall</th>\n",
       "      <td>0.890969</td>\n",
       "    </tr>\n",
       "    <tr>\n",
       "      <th>f1</th>\n",
       "      <td>0.648416</td>\n",
       "    </tr>\n",
       "  </tbody>\n",
       "</table>\n",
       "</div>"
      ],
      "text/plain": [
       "              score\n",
       "precision  0.509667\n",
       "recall     0.890969\n",
       "f1         0.648416"
      ]
     },
     "execution_count": 13,
     "metadata": {},
     "output_type": "execute_result"
    }
   ],
   "source": [
    "print(\"BERTScore\")\n",
    "pd.DataFrame(results[\"bertscore\"], index=['score']).T"
   ]
  }
 ],
 "metadata": {
  "kernelspec": {
   "display_name": "Python 3",
   "language": "python",
   "name": "python3"
  },
  "language_info": {
   "codemirror_mode": {
    "name": "ipython",
    "version": 3
   },
   "file_extension": ".py",
   "mimetype": "text/x-python",
   "name": "python",
   "nbconvert_exporter": "python",
   "pygments_lexer": "ipython3",
   "version": "3.9.0"
  }
 },
 "nbformat": 4,
 "nbformat_minor": 5
}
